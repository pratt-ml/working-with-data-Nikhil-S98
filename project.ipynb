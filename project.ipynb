{
 "cells": [
  {
   "cell_type": "code",
   "execution_count": null,
   "metadata": {},
   "outputs": [],
   "source": [
    "# I had to remove the collection-main folder in order to commit this assignment. in order to see if the code works,\n",
    "# you need to download the collection and put it into the base folder"
   ]
  },
  {
   "cell_type": "code",
   "execution_count": 1,
   "metadata": {},
   "outputs": [],
   "source": [
    "import pandas as pd"
   ]
  },
  {
   "cell_type": "code",
   "execution_count": 5,
   "metadata": {},
   "outputs": [],
   "source": [
    "artworks_df = pd.read_csv(\"./collection-main/artworks.csv\")\n",
    "artists_df = pd.read_csv(\"./collection-main/artists.csv\")"
   ]
  },
  {
   "cell_type": "code",
   "execution_count": 14,
   "metadata": {},
   "outputs": [
    {
     "name": "stdout",
     "output_type": "stream",
     "text": [
      "Title                     48\n",
      "Artist                  1261\n",
      "ConstituentID           1261\n",
      "ArtistBio               6078\n",
      "Nationality             1261\n",
      "BeginDate               1261\n",
      "EndDate                 1261\n",
      "Gender                  1261\n",
      "Date                    2016\n",
      "Medium                  9254\n",
      "Dimensions              8643\n",
      "CreditLine              1523\n",
      "AccessionNumber            0\n",
      "Classification             0\n",
      "Department                 0\n",
      "DateAcquired            6786\n",
      "Cataloged                  0\n",
      "ObjectID                   0\n",
      "URL                    56622\n",
      "ImageURL               65964\n",
      "OnView                155389\n",
      "Circumference (cm)    156627\n",
      "Depth (cm)            138821\n",
      "Diameter (cm)         155168\n",
      "Height (cm)            28748\n",
      "Length (cm)           155926\n",
      "Weight (kg)           156341\n",
      "Width (cm)             29674\n",
      "Seat Height (cm)      156637\n",
      "Duration (sec.)       154684\n",
      "dtype: int64\n"
     ]
    }
   ],
   "source": [
    "print(artworks_df.isnull().sum())"
   ]
  },
  {
   "cell_type": "code",
   "execution_count": 15,
   "metadata": {},
   "outputs": [
    {
     "name": "stdout",
     "output_type": "stream",
     "text": [
      "ConstituentID        0\n",
      "DisplayName          0\n",
      "ArtistBio         2194\n",
      "Nationality       2489\n",
      "Gender            3245\n",
      "BeginDate            0\n",
      "EndDate              0\n",
      "Wiki QID         12353\n",
      "ULAN             12669\n",
      "dtype: int64\n"
     ]
    }
   ],
   "source": [
    "print(artists_df.isnull().sum())"
   ]
  },
  {
   "cell_type": "code",
   "execution_count": 9,
   "metadata": {},
   "outputs": [
    {
     "name": "stdout",
     "output_type": "stream",
     "text": [
      "Title                 0\n",
      "Artist                0\n",
      "ConstituentID         0\n",
      "ArtistBio             0\n",
      "Nationality           0\n",
      "BeginDate             0\n",
      "EndDate               0\n",
      "Gender                0\n",
      "Date                  0\n",
      "Medium                0\n",
      "Dimensions            0\n",
      "CreditLine            0\n",
      "AccessionNumber       0\n",
      "Classification        0\n",
      "Department            0\n",
      "DateAcquired          0\n",
      "Cataloged             0\n",
      "ObjectID              0\n",
      "URL                   0\n",
      "ImageURL              0\n",
      "OnView                0\n",
      "Circumference (cm)    0\n",
      "Depth (cm)            0\n",
      "Diameter (cm)         0\n",
      "Height (cm)           0\n",
      "Length (cm)           0\n",
      "Weight (kg)           0\n",
      "Width (cm)            0\n",
      "Seat Height (cm)      0\n",
      "Duration (sec.)       0\n",
      "dtype: int64\n",
      "ConstituentID    0\n",
      "DisplayName      0\n",
      "ArtistBio        0\n",
      "Nationality      0\n",
      "Gender           0\n",
      "BeginDate        0\n",
      "EndDate          0\n",
      "Wiki QID         0\n",
      "ULAN             0\n",
      "dtype: int64\n"
     ]
    }
   ],
   "source": [
    "print((artworks_df == '').sum())"
   ]
  },
  {
   "cell_type": "code",
   "execution_count": 13,
   "metadata": {},
   "outputs": [
    {
     "name": "stdout",
     "output_type": "stream",
     "text": [
      "ConstituentID    0\n",
      "DisplayName      0\n",
      "ArtistBio        0\n",
      "Nationality      0\n",
      "Gender           0\n",
      "BeginDate        0\n",
      "EndDate          0\n",
      "Wiki QID         0\n",
      "ULAN             0\n",
      "dtype: int64\n"
     ]
    }
   ],
   "source": [
    "print((artists_df == '').sum())"
   ]
  },
  {
   "cell_type": "code",
   "execution_count": 11,
   "metadata": {},
   "outputs": [
    {
     "name": "stdout",
     "output_type": "stream",
     "text": [
      "Title                  object\n",
      "Artist                 object\n",
      "ConstituentID          object\n",
      "ArtistBio              object\n",
      "Nationality            object\n",
      "BeginDate              object\n",
      "EndDate                object\n",
      "Gender                 object\n",
      "Date                   object\n",
      "Medium                 object\n",
      "Dimensions             object\n",
      "CreditLine             object\n",
      "AccessionNumber        object\n",
      "Classification         object\n",
      "Department             object\n",
      "DateAcquired           object\n",
      "Cataloged              object\n",
      "ObjectID                int64\n",
      "URL                    object\n",
      "ImageURL               object\n",
      "OnView                 object\n",
      "Circumference (cm)    float64\n",
      "Depth (cm)            float64\n",
      "Diameter (cm)         float64\n",
      "Height (cm)           float64\n",
      "Length (cm)           float64\n",
      "Weight (kg)           float64\n",
      "Width (cm)            float64\n",
      "Seat Height (cm)      float64\n",
      "Duration (sec.)       float64\n",
      "dtype: object\n"
     ]
    }
   ],
   "source": [
    "print(artworks_df.dtypes)"
   ]
  },
  {
   "cell_type": "code",
   "execution_count": 19,
   "metadata": {},
   "outputs": [
    {
     "name": "stdout",
     "output_type": "stream",
     "text": [
      "ConstituentID             int64\n",
      "DisplayName              object\n",
      "ArtistBio                object\n",
      "Nationality              object\n",
      "Gender                   object\n",
      "BeginDate        datetime64[ns]\n",
      "EndDate          datetime64[ns]\n",
      "Wiki QID                 object\n",
      "ULAN                    float64\n",
      "dtype: object\n"
     ]
    }
   ],
   "source": [
    "print(artists_df.dtypes)"
   ]
  },
  {
   "cell_type": "code",
   "execution_count": 18,
   "metadata": {},
   "outputs": [
    {
     "name": "stderr",
     "output_type": "stream",
     "text": [
      "/var/folders/bk/rwn0l3jd0m99vs6sy3_1c5jw0000gn/T/ipykernel_49412/2171669708.py:1: UserWarning: Could not infer format, so each element will be parsed individually, falling back to `dateutil`. To ensure parsing is consistent and as-expected, please specify a format.\n",
      "  artworks_df['BeginDate'] = pd.to_datetime(artworks_df['BeginDate'], errors='coerce')\n",
      "/var/folders/bk/rwn0l3jd0m99vs6sy3_1c5jw0000gn/T/ipykernel_49412/2171669708.py:2: UserWarning: Could not infer format, so each element will be parsed individually, falling back to `dateutil`. To ensure parsing is consistent and as-expected, please specify a format.\n",
      "  artworks_df['EndDate'] = pd.to_datetime(artworks_df['EndDate'], errors='coerce')\n"
     ]
    }
   ],
   "source": [
    "# dates converted to datetime format\n",
    "artworks_df['BeginDate'] = pd.to_datetime(artworks_df['BeginDate'], errors='coerce')\n",
    "artworks_df['EndDate'] = pd.to_datetime(artworks_df['EndDate'], errors='coerce')\n",
    "artworks_df['DateAcquired'] = pd.to_datetime(artworks_df['DateAcquired'], errors='coerce')\n",
    "\n",
    "artists_df['BeginDate'] = pd.to_datetime(artists_df['BeginDate'], errors='coerce')\n",
    "artists_df['EndDate'] = pd.to_datetime(artists_df['EndDate'], errors='coerce')"
   ]
  },
  {
   "cell_type": "code",
   "execution_count": 25,
   "metadata": {},
   "outputs": [
    {
     "data": {
      "image/png": "[encoded data removed]",
      "text/plain": [
       "<Figure size 640x480 with 1 Axes>"
      ]
     },
     "metadata": {},
     "output_type": "display_data"
    }
   ],
   "source": [
    "import seaborn as sns\n",
    "import matplotlib.pyplot as plt\n",
    "\n",
    "top_nationalities = artworks_df['Nationality'].value_counts().head(5)\n",
    "\n",
    "sns.barplot(x=top_nationalities.values, y=top_nationalities.index)\n",
    "plt.title('Top 10 Nationalities')\n",
    "plt.show()"
   ]
  },
  {
   "cell_type": "code",
   "execution_count": 32,
   "metadata": {},
   "outputs": [
    {
     "name": "stdout",
     "output_type": "stream",
     "text": [
      "                                               Title  \\\n",
      "0  Ferdinandsbrücke Project, Vienna, Austria (Ele...   \n",
      "1  City of Music, National Superior Conservatory ...   \n",
      "2  Villa project, outside Vienna, Austria (Elevat...   \n",
      "3  The Manhattan Transcripts Project, New York, N...   \n",
      "4  Villa project, outside Vienna, Austria (Exteri...   \n",
      "\n",
      "                     Artist  ConstituentID  \\\n",
      "0               Otto Wagner         6210.0   \n",
      "1  Christian de Portzamparc         7470.0   \n",
      "2                Emil Hoppe         7605.0   \n",
      "3           Bernard Tschumi         7056.0   \n",
      "4                Emil Hoppe         7605.0   \n",
      "\n",
      "                                 ArtistBio_x Nationality_x BeginDate_x  \\\n",
      "0                      (Austrian, 1841–1918)    (Austrian)         NaT   \n",
      "1                        (French, born 1944)      (French)         NaT   \n",
      "2                      (Austrian, 1876–1957)    (Austrian)         NaT   \n",
      "3  (French and Swiss, born Switzerland 1944)            ()         NaT   \n",
      "4                      (Austrian, 1876–1957)    (Austrian)         NaT   \n",
      "\n",
      "  EndDate_x Gender_x  Date                                             Medium  \\\n",
      "0       NaT   (male)  1896      Ink and cut-and-pasted painted pages on paper   \n",
      "1       NaT   (male)  1987                  Paint and colored pencil on print   \n",
      "2       NaT   (male)  1903  Graphite, pen, color pencil, ink, and gouache ...   \n",
      "3       NaT   (male)  1980  Photographic reproduction with colored synthet...   \n",
      "4       NaT   (male)  1903  Graphite, color pencil, ink, and gouache on tr...   \n",
      "\n",
      "   ... Seat Height (cm) Duration (sec.)               DisplayName  \\\n",
      "0  ...              NaN             NaN               Otto Wagner   \n",
      "1  ...              NaN             NaN  Christian de Portzamparc   \n",
      "2  ...              NaN             NaN                Emil Hoppe   \n",
      "3  ...              NaN             NaN           Bernard Tschumi   \n",
      "4  ...              NaN             NaN                Emil Hoppe   \n",
      "\n",
      "                               ArtistBio_y Nationality_y Gender_y  \\\n",
      "0                      Austrian, 1841–1918      Austrian     male   \n",
      "1                        French, born 1944        French     male   \n",
      "2                      Austrian, 1876–1957      Austrian     male   \n",
      "3  French and Swiss, born Switzerland 1944           NaN     male   \n",
      "4                      Austrian, 1876–1957      Austrian     male   \n",
      "\n",
      "                    BeginDate_y                     EndDate_y  Wiki QID  \\\n",
      "0 1970-01-01 00:00:00.000001841 1970-01-01 00:00:00.000001918    Q84287   \n",
      "1 1970-01-01 00:00:00.000001944 1970-01-01 00:00:00.000000000   Q312838   \n",
      "2 1970-01-01 00:00:00.000001876 1970-01-01 00:00:00.000001957  Q1336246   \n",
      "3 1970-01-01 00:00:00.000001944 1970-01-01 00:00:00.000000000   Q123966   \n",
      "4 1970-01-01 00:00:00.000001876 1970-01-01 00:00:00.000001957  Q1336246   \n",
      "\n",
      "          ULAN  \n",
      "0  500016971.0  \n",
      "1  500024982.0  \n",
      "2  500232997.0  \n",
      "3  500022322.0  \n",
      "4  500232997.0  \n",
      "\n",
      "[5 rows x 38 columns]\n"
     ]
    }
   ],
   "source": [
    "artworks_df['ConstituentID'] = pd.to_numeric(artworks_df['ConstituentID'], errors='coerce')\n",
    "merged_df = pd.merge(artworks_df, artists_df, on='ConstituentID', how='inner')\n",
    "print(merged_df.head())"
   ]
  },
  {
   "cell_type": "code",
   "execution_count": 34,
   "metadata": {},
   "outputs": [
    {
     "name": "stdout",
     "output_type": "stream",
     "text": [
      "                                                Title           Artist  \\\n",
      "30  Memorial to the Six Million Jewish Martyrs, pr...    Louis I. Kahn   \n",
      "64                         Earth-Cloud House, project  Raimund Abraham   \n",
      "65  Pedestrian City project, Hypostyle Courtyard (...   Roger C. Ferri   \n",
      "67  Pedestrian City project, Hypostyle Courtyard (...   Roger C. Ferri   \n",
      "69  Pedestrian City project, Hypostyle Courtyard (...   Roger C. Ferri   \n",
      "\n",
      "    ConstituentID                          ArtistBio_x Nationality_x  \\\n",
      "30         2964.0  (American, born Estonia. 1901–1974)    (American)   \n",
      "64           47.0  (American, born Austria. 1933–2010)    (American)   \n",
      "65         1863.0                (American, 1949–1991)    (American)   \n",
      "67         1863.0                (American, 1949–1991)    (American)   \n",
      "69         1863.0                (American, 1949–1991)    (American)   \n",
      "\n",
      "   BeginDate_x EndDate_x Gender_x  Date  \\\n",
      "30         NaT       NaT   (male)  1968   \n",
      "64         NaT       NaT   (male)  1970   \n",
      "65         NaT       NaT   (male)  1979   \n",
      "67         NaT       NaT   (male)  1979   \n",
      "69         NaT       NaT   (male)  1979   \n",
      "\n",
      "                                    Medium  ... Seat Height (cm)  \\\n",
      "30  Charcoal and graphite on tracing paper  ...              NaN   \n",
      "64                                Graphite  ...              NaN   \n",
      "65                 Ink and pastel on paper  ...              NaN   \n",
      "67                 Ink and pastel on paper  ...              NaN   \n",
      "69                         Pastel on paper  ...              NaN   \n",
      "\n",
      "   Duration (sec.)      DisplayName                        ArtistBio_y  \\\n",
      "30             NaN    Louis I. Kahn  American, born Estonia. 1901–1974   \n",
      "64             NaN  Raimund Abraham  American, born Austria. 1933–2010   \n",
      "65             NaN   Roger C. Ferri                American, 1949–1991   \n",
      "67             NaN   Roger C. Ferri                American, 1949–1991   \n",
      "69             NaN   Roger C. Ferri                American, 1949–1991   \n",
      "\n",
      "   Nationality_y Gender_y                   BeginDate_y  \\\n",
      "30      American     male 1970-01-01 00:00:00.000001901   \n",
      "64      American     male 1970-01-01 00:00:00.000001933   \n",
      "65      American     male 1970-01-01 00:00:00.000001949   \n",
      "67      American     male 1970-01-01 00:00:00.000001949   \n",
      "69      American     male 1970-01-01 00:00:00.000001949   \n",
      "\n",
      "                       EndDate_y Wiki QID         ULAN  \n",
      "30 1970-01-01 00:00:00.000001974  Q210134  500027669.0  \n",
      "64 1970-01-01 00:00:00.000002010   Q78819  500031964.0  \n",
      "65 1970-01-01 00:00:00.000001991      NaN          NaN  \n",
      "67 1970-01-01 00:00:00.000001991      NaN          NaN  \n",
      "69 1970-01-01 00:00:00.000001991      NaN          NaN  \n",
      "\n",
      "[5 rows x 38 columns]\n"
     ]
    }
   ],
   "source": [
    "american_artworks = merged_df[merged_df['Nationality_x'].str.contains('American', na=False)]\n",
    "print(american_artworks.head())"
   ]
  },
  {
   "cell_type": "code",
   "execution_count": 36,
   "metadata": {},
   "outputs": [
    {
     "name": "stdout",
     "output_type": "stream",
     "text": [
      "                                                Title           Artist  \\\n",
      "0   Ferdinandsbrücke Project, Vienna, Austria (Ele...      Otto Wagner   \n",
      "2   Villa project, outside Vienna, Austria (Elevat...       Emil Hoppe   \n",
      "4   Villa project, outside Vienna, Austria (Exteri...       Emil Hoppe   \n",
      "32  Royal Hunting Tent, project, Exterior perspective  Marcel Kammerer   \n",
      "34  House in Krems, project, Krems, Austria, Eleva...   Otto Schönthal   \n",
      "\n",
      "    ConstituentID            ArtistBio_x Nationality_x BeginDate_x EndDate_x  \\\n",
      "0          6210.0  (Austrian, 1841–1918)    (Austrian)         NaT       NaT   \n",
      "2          7605.0  (Austrian, 1876–1957)    (Austrian)         NaT       NaT   \n",
      "4          7605.0  (Austrian, 1876–1957)    (Austrian)         NaT       NaT   \n",
      "32         7607.0  (Austrian, 1878–1969)    (Austrian)         NaT       NaT   \n",
      "34         7608.0  (Austrian, 1878–1961)    (Austrian)         NaT       NaT   \n",
      "\n",
      "   Gender_x  Date                                             Medium  ...  \\\n",
      "0    (male)  1896      Ink and cut-and-pasted painted pages on paper  ...   \n",
      "2    (male)  1903  Graphite, pen, color pencil, ink, and gouache ...  ...   \n",
      "4    (male)  1903  Graphite, color pencil, ink, and gouache on tr...  ...   \n",
      "32   (male)  1900  Ink, graphite, watercolor, gouache, and airbru...  ...   \n",
      "34   (male)  1905  Graphite, ink, watercolor, and metallic paint ...  ...   \n",
      "\n",
      "   Seat Height (cm) Duration (sec.)      DisplayName          ArtistBio_y  \\\n",
      "0               NaN             NaN      Otto Wagner  Austrian, 1841–1918   \n",
      "2               NaN             NaN       Emil Hoppe  Austrian, 1876–1957   \n",
      "4               NaN             NaN       Emil Hoppe  Austrian, 1876–1957   \n",
      "32              NaN             NaN  Marcel Kammerer  Austrian, 1878–1969   \n",
      "34              NaN             NaN   Otto Schönthal  Austrian, 1878–1961   \n",
      "\n",
      "   Nationality_y Gender_y                   BeginDate_y  \\\n",
      "0       Austrian     male 1970-01-01 00:00:00.000001841   \n",
      "2       Austrian     male 1970-01-01 00:00:00.000001876   \n",
      "4       Austrian     male 1970-01-01 00:00:00.000001876   \n",
      "32      Austrian     male 1970-01-01 00:00:00.000001878   \n",
      "34      Austrian     male 1970-01-01 00:00:00.000001878   \n",
      "\n",
      "                       EndDate_y   Wiki QID         ULAN  \n",
      "0  1970-01-01 00:00:00.000001918     Q84287  500016971.0  \n",
      "2  1970-01-01 00:00:00.000001957   Q1336246  500232997.0  \n",
      "4  1970-01-01 00:00:00.000001957   Q1336246  500232997.0  \n",
      "32 1970-01-01 00:00:00.000001969  Q12286231  500149152.0  \n",
      "34 1970-01-01 00:00:00.000001961   Q2040590  500191233.0  \n",
      "\n",
      "[5 rows x 38 columns]\n"
     ]
    }
   ],
   "source": [
    "austrian_artworks = merged_df[merged_df['Nationality_x'].str.contains('Austrian', na=False)]\n",
    "print(austrian_artworks.head())"
   ]
  }
 ],
 "metadata": {
  "kernelspec": {
   "display_name": "venv",
   "language": "python",
   "name": "python3"
  },
  "language_info": {
   "codemirror_mode": {
    "name": "ipython",
    "version": 3
   },
   "file_extension": ".py",
   "mimetype": "text/x-python",
   "name": "python",
   "nbconvert_exporter": "python",
   "pygments_lexer": "ipython3",
   "version": "3.12.6"
  }
 },
 "nbformat": 4,
 "nbformat_minor": 2
}
